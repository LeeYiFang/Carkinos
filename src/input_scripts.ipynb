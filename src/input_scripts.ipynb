{
 "cells": [
  {
   "cell_type": "code",
   "execution_count": 1,
   "metadata": {
    "collapsed": true
   },
   "outputs": [],
   "source": [
    "from pathlib import Path"
   ]
  },
  {
   "cell_type": "code",
   "execution_count": 2,
   "metadata": {
    "collapsed": true
   },
   "outputs": [],
   "source": [
    "import pandas as pd\n",
    "import numpy as np"
   ]
  },
  {
   "cell_type": "code",
   "execution_count": 11,
   "metadata": {
    "collapsed": true
   },
   "outputs": [],
   "source": [
    "root=Path('../').resolve()"
   ]
  },
  {
   "cell_type": "code",
   "execution_count": 12,
   "metadata": {
    "collapsed": false
   },
   "outputs": [
    {
     "data": {
      "text/plain": [
       "WindowsPath('C:/Users/user/Documents/GitHub/Carkinos')"
      ]
     },
     "execution_count": 12,
     "metadata": {},
     "output_type": "execute_result"
    }
   ],
   "source": [
    "root"
   ]
  },
  {
   "cell_type": "code",
   "execution_count": 14,
   "metadata": {
    "collapsed": true
   },
   "outputs": [],
   "source": [
    "raw_path=root.joinpath('src','raw','GSE36133','GSE36133_RAW.quantile_normalized.tsv')\n",
    "probe_path=root.joinpath('src','raw','Affy_U133plus2_probe_info.csv')\n",
    "sample_path=root.joinpath('src','raw','GSE36133','CCLE.xlsx')"
   ]
  },
  {
   "cell_type": "code",
   "execution_count": 15,
   "metadata": {
    "collapsed": false
   },
   "outputs": [],
   "source": [
    "plat_info_df = pd.read_csv(probe_path.as_posix())"
   ]
  },
  {
   "cell_type": "code",
   "execution_count": 16,
   "metadata": {
    "collapsed": false
   },
   "outputs": [
    {
     "data": {
      "text/html": [
       "<div>\n",
       "<table border=\"1\" class=\"dataframe\">\n",
       "  <thead>\n",
       "    <tr style=\"text-align: right;\">\n",
       "      <th></th>\n",
       "      <th>PROBEID</th>\n",
       "      <th>SYMBOL</th>\n",
       "      <th>ENTREZID</th>\n",
       "      <th>GENENAME</th>\n",
       "    </tr>\n",
       "  </thead>\n",
       "  <tbody>\n",
       "    <tr>\n",
       "      <th>0</th>\n",
       "      <td>1007_s_at</td>\n",
       "      <td>DDR1</td>\n",
       "      <td>780</td>\n",
       "      <td>discoidin domain receptor tyrosine kinase 1</td>\n",
       "    </tr>\n",
       "    <tr>\n",
       "      <th>1</th>\n",
       "      <td>1007_s_at</td>\n",
       "      <td>MIR4640</td>\n",
       "      <td>100616237</td>\n",
       "      <td>microRNA 4640</td>\n",
       "    </tr>\n",
       "    <tr>\n",
       "      <th>2</th>\n",
       "      <td>1053_at</td>\n",
       "      <td>RFC2</td>\n",
       "      <td>5982</td>\n",
       "      <td>replication factor C (activator 1) 2, 40kDa</td>\n",
       "    </tr>\n",
       "    <tr>\n",
       "      <th>3</th>\n",
       "      <td>117_at</td>\n",
       "      <td>HSPA6</td>\n",
       "      <td>3310</td>\n",
       "      <td>heat shock 70kDa protein 6 (HSP70B')</td>\n",
       "    </tr>\n",
       "    <tr>\n",
       "      <th>4</th>\n",
       "      <td>121_at</td>\n",
       "      <td>PAX8</td>\n",
       "      <td>7849</td>\n",
       "      <td>paired box 8</td>\n",
       "    </tr>\n",
       "  </tbody>\n",
       "</table>\n",
       "</div>"
      ],
      "text/plain": [
       "     PROBEID   SYMBOL   ENTREZID                                     GENENAME\n",
       "0  1007_s_at     DDR1        780  discoidin domain receptor tyrosine kinase 1\n",
       "1  1007_s_at  MIR4640  100616237                                microRNA 4640\n",
       "2    1053_at     RFC2       5982  replication factor C (activator 1) 2, 40kDa\n",
       "3     117_at    HSPA6       3310         heat shock 70kDa protein 6 (HSP70B')\n",
       "4     121_at     PAX8       7849                                 paired box 8"
      ]
     },
     "execution_count": 16,
     "metadata": {},
     "output_type": "execute_result"
    }
   ],
   "source": [
    "plat_info_df.head()"
   ]
  },
  {
   "cell_type": "code",
   "execution_count": 17,
   "metadata": {
    "collapsed": true
   },
   "outputs": [],
   "source": [
    "sample_info_df = pd.read_excel(sample_path.as_posix())"
   ]
  },
  {
   "cell_type": "code",
   "execution_count": 18,
   "metadata": {
    "collapsed": false
   },
   "outputs": [
    {
     "data": {
      "text/html": [
       "<div>\n",
       "<table border=\"1\" class=\"dataframe\">\n",
       "  <thead>\n",
       "    <tr style=\"text-align: right;\">\n",
       "      <th></th>\n",
       "      <th>Group</th>\n",
       "      <th>name</th>\n",
       "      <th>Cell_line</th>\n",
       "      <th>Source name</th>\n",
       "      <th>Primary_site</th>\n",
       "      <th>Primary_hist</th>\n",
       "      <th>Histology subtype1</th>\n",
       "    </tr>\n",
       "  </thead>\n",
       "  <tbody>\n",
       "    <tr>\n",
       "      <th>0</th>\n",
       "      <td>-</td>\n",
       "      <td>GSM886835</td>\n",
       "      <td>1321N1</td>\n",
       "      <td>ECACC</td>\n",
       "      <td>central nervous system</td>\n",
       "      <td>glioma</td>\n",
       "      <td>astrocytoma</td>\n",
       "    </tr>\n",
       "    <tr>\n",
       "      <th>1</th>\n",
       "      <td>-</td>\n",
       "      <td>GSM886836</td>\n",
       "      <td>143B</td>\n",
       "      <td>ATCC</td>\n",
       "      <td>bone</td>\n",
       "      <td>osteosarcoma</td>\n",
       "      <td>NaN</td>\n",
       "    </tr>\n",
       "    <tr>\n",
       "      <th>2</th>\n",
       "      <td>-</td>\n",
       "      <td>GSM886837</td>\n",
       "      <td>22Rv1</td>\n",
       "      <td>ATCC</td>\n",
       "      <td>prostate</td>\n",
       "      <td>carcinoma</td>\n",
       "      <td>NaN</td>\n",
       "    </tr>\n",
       "    <tr>\n",
       "      <th>3</th>\n",
       "      <td>-</td>\n",
       "      <td>GSM886838</td>\n",
       "      <td>23132/87</td>\n",
       "      <td>DSMZ</td>\n",
       "      <td>stomach</td>\n",
       "      <td>carcinoma</td>\n",
       "      <td>adenocarcinoma</td>\n",
       "    </tr>\n",
       "    <tr>\n",
       "      <th>4</th>\n",
       "      <td>-</td>\n",
       "      <td>GSM886839</td>\n",
       "      <td>42-MG-BA</td>\n",
       "      <td>DSMZ</td>\n",
       "      <td>central nervous system</td>\n",
       "      <td>glioma</td>\n",
       "      <td>astrocytoma_Grade_IV</td>\n",
       "    </tr>\n",
       "  </tbody>\n",
       "</table>\n",
       "</div>"
      ],
      "text/plain": [
       "  Group       name Cell_line Source name            Primary_site  \\\n",
       "0     -  GSM886835    1321N1       ECACC  central nervous system   \n",
       "1     -  GSM886836      143B        ATCC                    bone   \n",
       "2     -  GSM886837     22Rv1        ATCC                prostate   \n",
       "3     -  GSM886838  23132/87        DSMZ                 stomach   \n",
       "4     -  GSM886839  42-MG-BA        DSMZ  central nervous system   \n",
       "\n",
       "   Primary_hist    Histology subtype1  \n",
       "0        glioma           astrocytoma  \n",
       "1  osteosarcoma                   NaN  \n",
       "2     carcinoma                   NaN  \n",
       "3     carcinoma        adenocarcinoma  \n",
       "4        glioma  astrocytoma_Grade_IV  "
      ]
     },
     "execution_count": 18,
     "metadata": {},
     "output_type": "execute_result"
    }
   ],
   "source": [
    "sample_info_df.head()"
   ]
  },
  {
   "cell_type": "code",
   "execution_count": 19,
   "metadata": {
    "collapsed": true
   },
   "outputs": [],
   "source": [
    "sample_info_df = sample_info_df.loc[\n",
    "    :, ['name', 'Cell_line', 'Primary_site', 'Primary_hist']\n",
    "]\n",
    "sample_info_df.columns = [\n",
    "    'name', 'cell_line', 'primary_site', 'primary_histology'\n",
    "]"
   ]
  },
  {
   "cell_type": "code",
   "execution_count": 20,
   "metadata": {
    "collapsed": true
   },
   "outputs": [],
   "source": [
    "sample_raw_data_df = pd.read_table(raw_path.as_posix())"
   ]
  },
  {
   "cell_type": "code",
   "execution_count": 21,
   "metadata": {
    "collapsed": false
   },
   "outputs": [
    {
     "data": {
      "text/html": [
       "<div>\n",
       "<table border=\"1\" class=\"dataframe\">\n",
       "  <thead>\n",
       "    <tr style=\"text-align: right;\">\n",
       "      <th></th>\n",
       "      <th>Unnamed: 0</th>\n",
       "      <th>GSM886835.CEL.gz</th>\n",
       "      <th>GSM886836.CEL.gz</th>\n",
       "      <th>GSM886837.CEL.gz</th>\n",
       "      <th>GSM886838.CEL.gz</th>\n",
       "      <th>GSM886839.CEL.gz</th>\n",
       "      <th>GSM886840.CEL.gz</th>\n",
       "      <th>GSM886841.CEL.gz</th>\n",
       "      <th>GSM886842.CEL.gz</th>\n",
       "      <th>GSM886843.CEL.gz</th>\n",
       "      <th>...</th>\n",
       "      <th>GSM887742.CEL.gz</th>\n",
       "      <th>GSM887743.CEL.gz</th>\n",
       "      <th>GSM887744.CEL.gz</th>\n",
       "      <th>GSM887745.CEL.gz</th>\n",
       "      <th>GSM887746.CEL.gz</th>\n",
       "      <th>GSM887747.CEL.gz</th>\n",
       "      <th>GSM887748.CEL.gz</th>\n",
       "      <th>GSM887749.CEL.gz</th>\n",
       "      <th>GSM887750.CEL.gz</th>\n",
       "      <th>GSM887751.CEL.gz</th>\n",
       "    </tr>\n",
       "  </thead>\n",
       "  <tbody>\n",
       "    <tr>\n",
       "      <th>0</th>\n",
       "      <td>1007_s_at</td>\n",
       "      <td>9.069319</td>\n",
       "      <td>8.831760</td>\n",
       "      <td>10.620580</td>\n",
       "      <td>11.192532</td>\n",
       "      <td>8.990821</td>\n",
       "      <td>10.498929</td>\n",
       "      <td>9.198445</td>\n",
       "      <td>11.418360</td>\n",
       "      <td>8.707193</td>\n",
       "      <td>...</td>\n",
       "      <td>10.469033</td>\n",
       "      <td>12.210265</td>\n",
       "      <td>10.639168</td>\n",
       "      <td>11.405050</td>\n",
       "      <td>9.894988</td>\n",
       "      <td>9.697556</td>\n",
       "      <td>9.794227</td>\n",
       "      <td>11.481848</td>\n",
       "      <td>10.964601</td>\n",
       "      <td>11.633033</td>\n",
       "    </tr>\n",
       "    <tr>\n",
       "      <th>1</th>\n",
       "      <td>1053_at</td>\n",
       "      <td>10.203425</td>\n",
       "      <td>9.604644</td>\n",
       "      <td>10.747486</td>\n",
       "      <td>8.986573</td>\n",
       "      <td>10.272788</td>\n",
       "      <td>10.168361</td>\n",
       "      <td>9.607614</td>\n",
       "      <td>10.031919</td>\n",
       "      <td>10.191501</td>\n",
       "      <td>...</td>\n",
       "      <td>9.631346</td>\n",
       "      <td>9.236498</td>\n",
       "      <td>10.045720</td>\n",
       "      <td>9.440482</td>\n",
       "      <td>8.745399</td>\n",
       "      <td>9.460357</td>\n",
       "      <td>9.729576</td>\n",
       "      <td>9.211143</td>\n",
       "      <td>9.103648</td>\n",
       "      <td>9.113995</td>\n",
       "    </tr>\n",
       "    <tr>\n",
       "      <th>2</th>\n",
       "      <td>117_at</td>\n",
       "      <td>7.015166</td>\n",
       "      <td>6.897456</td>\n",
       "      <td>6.873472</td>\n",
       "      <td>6.936911</td>\n",
       "      <td>6.949447</td>\n",
       "      <td>6.953332</td>\n",
       "      <td>6.902883</td>\n",
       "      <td>6.994181</td>\n",
       "      <td>6.902269</td>\n",
       "      <td>...</td>\n",
       "      <td>6.796219</td>\n",
       "      <td>6.950180</td>\n",
       "      <td>6.995661</td>\n",
       "      <td>6.997018</td>\n",
       "      <td>6.947650</td>\n",
       "      <td>6.787864</td>\n",
       "      <td>6.894699</td>\n",
       "      <td>6.954654</td>\n",
       "      <td>6.886693</td>\n",
       "      <td>6.969157</td>\n",
       "    </tr>\n",
       "    <tr>\n",
       "      <th>3</th>\n",
       "      <td>121_at</td>\n",
       "      <td>8.524442</td>\n",
       "      <td>7.765468</td>\n",
       "      <td>8.355343</td>\n",
       "      <td>8.904400</td>\n",
       "      <td>8.088552</td>\n",
       "      <td>8.833986</td>\n",
       "      <td>7.968559</td>\n",
       "      <td>7.761056</td>\n",
       "      <td>7.809402</td>\n",
       "      <td>...</td>\n",
       "      <td>7.636309</td>\n",
       "      <td>7.969167</td>\n",
       "      <td>8.032827</td>\n",
       "      <td>7.958479</td>\n",
       "      <td>7.971772</td>\n",
       "      <td>7.955109</td>\n",
       "      <td>8.044165</td>\n",
       "      <td>7.983279</td>\n",
       "      <td>7.695917</td>\n",
       "      <td>8.139457</td>\n",
       "    </tr>\n",
       "    <tr>\n",
       "      <th>4</th>\n",
       "      <td>1255_g_at</td>\n",
       "      <td>6.816810</td>\n",
       "      <td>6.693465</td>\n",
       "      <td>6.710513</td>\n",
       "      <td>6.592209</td>\n",
       "      <td>6.716282</td>\n",
       "      <td>6.837487</td>\n",
       "      <td>6.747872</td>\n",
       "      <td>6.676317</td>\n",
       "      <td>6.746093</td>\n",
       "      <td>...</td>\n",
       "      <td>6.819875</td>\n",
       "      <td>6.718008</td>\n",
       "      <td>6.706068</td>\n",
       "      <td>6.775780</td>\n",
       "      <td>6.746609</td>\n",
       "      <td>7.091192</td>\n",
       "      <td>6.762120</td>\n",
       "      <td>6.593542</td>\n",
       "      <td>6.706902</td>\n",
       "      <td>6.754710</td>\n",
       "    </tr>\n",
       "  </tbody>\n",
       "</table>\n",
       "<p>5 rows × 918 columns</p>\n",
       "</div>"
      ],
      "text/plain": [
       "  Unnamed: 0  GSM886835.CEL.gz  GSM886836.CEL.gz  GSM886837.CEL.gz  \\\n",
       "0  1007_s_at          9.069319          8.831760         10.620580   \n",
       "1    1053_at         10.203425          9.604644         10.747486   \n",
       "2     117_at          7.015166          6.897456          6.873472   \n",
       "3     121_at          8.524442          7.765468          8.355343   \n",
       "4  1255_g_at          6.816810          6.693465          6.710513   \n",
       "\n",
       "   GSM886838.CEL.gz  GSM886839.CEL.gz  GSM886840.CEL.gz  GSM886841.CEL.gz  \\\n",
       "0         11.192532          8.990821         10.498929          9.198445   \n",
       "1          8.986573         10.272788         10.168361          9.607614   \n",
       "2          6.936911          6.949447          6.953332          6.902883   \n",
       "3          8.904400          8.088552          8.833986          7.968559   \n",
       "4          6.592209          6.716282          6.837487          6.747872   \n",
       "\n",
       "   GSM886842.CEL.gz  GSM886843.CEL.gz        ...         GSM887742.CEL.gz  \\\n",
       "0         11.418360          8.707193        ...                10.469033   \n",
       "1         10.031919         10.191501        ...                 9.631346   \n",
       "2          6.994181          6.902269        ...                 6.796219   \n",
       "3          7.761056          7.809402        ...                 7.636309   \n",
       "4          6.676317          6.746093        ...                 6.819875   \n",
       "\n",
       "   GSM887743.CEL.gz  GSM887744.CEL.gz  GSM887745.CEL.gz  GSM887746.CEL.gz  \\\n",
       "0         12.210265         10.639168         11.405050          9.894988   \n",
       "1          9.236498         10.045720          9.440482          8.745399   \n",
       "2          6.950180          6.995661          6.997018          6.947650   \n",
       "3          7.969167          8.032827          7.958479          7.971772   \n",
       "4          6.718008          6.706068          6.775780          6.746609   \n",
       "\n",
       "   GSM887747.CEL.gz  GSM887748.CEL.gz  GSM887749.CEL.gz  GSM887750.CEL.gz  \\\n",
       "0          9.697556          9.794227         11.481848         10.964601   \n",
       "1          9.460357          9.729576          9.211143          9.103648   \n",
       "2          6.787864          6.894699          6.954654          6.886693   \n",
       "3          7.955109          8.044165          7.983279          7.695917   \n",
       "4          7.091192          6.762120          6.593542          6.706902   \n",
       "\n",
       "   GSM887751.CEL.gz  \n",
       "0         11.633033  \n",
       "1          9.113995  \n",
       "2          6.969157  \n",
       "3          8.139457  \n",
       "4          6.754710  \n",
       "\n",
       "[5 rows x 918 columns]"
      ]
     },
     "execution_count": 21,
     "metadata": {},
     "output_type": "execute_result"
    }
   ],
   "source": [
    "sample_raw_data_df.head()"
   ]
  },
  {
   "cell_type": "code",
   "execution_count": 22,
   "metadata": {
    "collapsed": true
   },
   "outputs": [],
   "source": [
    "sample_raw_data_df.index = sample_raw_data_df['Unnamed: 0']\n",
    "sample_raw_data_df.index.name = None"
   ]
  },
  {
   "cell_type": "code",
   "execution_count": null,
   "metadata": {
    "collapsed": false,
    "scrolled": true
   },
   "outputs": [],
   "source": [
    "sample_raw_data_df = sample_raw_data_df.iloc[:, 1:]"
   ]
  },
  {
   "cell_type": "code",
   "execution_count": null,
   "metadata": {
    "collapsed": false
   },
   "outputs": [],
   "source": [
    "sample_raw_data_df.columns = [col[:-len('.CEL.gz')] for col in sample_raw_data_df.columns]\n",
    "sample_raw_data_df = sample_raw_data_df.loc[:, sample_info_df['name']]\n",
    "sample_raw_data_df = sample_raw_data_df.reindex(pd.unique(plat_info_df.PROBEID))"
   ]
  },
  {
   "cell_type": "code",
   "execution_count": null,
   "metadata": {
    "collapsed": true
   },
   "outputs": [],
   "source": [
    "npy_path=root.joinpath('src','GSE36133.npy')\n",
    "with (npy_path).open('wb') as f:\n",
    "    np.save(f, sample_raw_data_df.values.astype(np.float32))"
   ]
  }
 ],
 "metadata": {
  "kernelspec": {
   "display_name": "Python 3",
   "language": "python",
   "name": "python3"
  },
  "language_info": {
   "codemirror_mode": {
    "name": "ipython",
    "version": 3
   },
   "file_extension": ".py",
   "mimetype": "text/x-python",
   "name": "python",
   "nbconvert_exporter": "python",
   "pygments_lexer": "ipython3",
   "version": "3.4.3"
  }
 },
 "nbformat": 4,
 "nbformat_minor": 0
}
